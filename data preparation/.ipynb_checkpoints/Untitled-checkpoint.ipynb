{
 "cells": [
  {
   "cell_type": "code",
   "execution_count": 1,
   "id": "c66121bc",
   "metadata": {},
   "outputs": [
    {
     "data": {
      "text/html": [
       "<div>\n",
       "<style scoped>\n",
       "    .dataframe tbody tr th:only-of-type {\n",
       "        vertical-align: middle;\n",
       "    }\n",
       "\n",
       "    .dataframe tbody tr th {\n",
       "        vertical-align: top;\n",
       "    }\n",
       "\n",
       "    .dataframe thead th {\n",
       "        text-align: right;\n",
       "    }\n",
       "</style>\n",
       "<table border=\"1\" class=\"dataframe\">\n",
       "  <thead>\n",
       "    <tr style=\"text-align: right;\">\n",
       "      <th></th>\n",
       "      <th>indications</th>\n",
       "    </tr>\n",
       "  </thead>\n",
       "  <tbody>\n",
       "    <tr>\n",
       "      <th>count</th>\n",
       "      <td>785</td>\n",
       "    </tr>\n",
       "    <tr>\n",
       "      <th>unique</th>\n",
       "      <td>99</td>\n",
       "    </tr>\n",
       "    <tr>\n",
       "      <th>top</th>\n",
       "      <td>[ ]</td>\n",
       "    </tr>\n",
       "    <tr>\n",
       "      <th>freq</th>\n",
       "      <td>620</td>\n",
       "    </tr>\n",
       "  </tbody>\n",
       "</table>\n",
       "</div>"
      ],
      "text/plain": [
       "       indications\n",
       "count          785\n",
       "unique          99\n",
       "top            [ ]\n",
       "freq           620"
      ]
     },
     "execution_count": 1,
     "metadata": {},
     "output_type": "execute_result"
    }
   ],
   "source": [
    "import pandas as pd \n",
    "df = pd.read_csv(\"dataset.csv\")\n",
    "# isolate indications\n",
    "indic=pd.DataFrame(df[\"indications\"]).copy()\n",
    "indic=indic.fillna(\" \")\n",
    "indic=indic.astype(str)\n",
    "indic[\"indications\"]=indic[\"indications\"].str.split(\",\")\n",
    "indic.describe()"
   ]
  },
  {
   "cell_type": "code",
   "execution_count": 2,
   "id": "e496e99c",
   "metadata": {},
   "outputs": [
    {
     "data": {
      "text/html": [
       "<div>\n",
       "<style scoped>\n",
       "    .dataframe tbody tr th:only-of-type {\n",
       "        vertical-align: middle;\n",
       "    }\n",
       "\n",
       "    .dataframe tbody tr th {\n",
       "        vertical-align: top;\n",
       "    }\n",
       "\n",
       "    .dataframe thead th {\n",
       "        text-align: right;\n",
       "    }\n",
       "</style>\n",
       "<table border=\"1\" class=\"dataframe\">\n",
       "  <thead>\n",
       "    <tr style=\"text-align: right;\">\n",
       "      <th></th>\n",
       "      <th>indications</th>\n",
       "    </tr>\n",
       "  </thead>\n",
       "  <tbody>\n",
       "    <tr>\n",
       "      <th>count</th>\n",
       "      <td>785</td>\n",
       "    </tr>\n",
       "    <tr>\n",
       "      <th>unique</th>\n",
       "      <td>98</td>\n",
       "    </tr>\n",
       "    <tr>\n",
       "      <th>top</th>\n",
       "      <td>[]</td>\n",
       "    </tr>\n",
       "    <tr>\n",
       "      <th>freq</th>\n",
       "      <td>621</td>\n",
       "    </tr>\n",
       "  </tbody>\n",
       "</table>\n",
       "</div>"
      ],
      "text/plain": [
       "       indications\n",
       "count          785\n",
       "unique          98\n",
       "top             []\n",
       "freq           621"
      ]
     },
     "execution_count": 2,
     "metadata": {},
     "output_type": "execute_result"
    }
   ],
   "source": [
    "#collect values in list\n",
    "indic=indic\n",
    "indic['indications']= [[i for i in item if not \"Question\" in i ] for item in indic['indications']]\n",
    "indic.iloc[610]\n",
    "indic['indications']= [ [i+\",\" for i in item] for item in indic['indications']]\n",
    "indic['indications']=[\"\".join(item) for item in indic['indications']]\n",
    "indic[\"indications\"]=indic[\"indications\"].str.replace(\";\",\",\")\n",
    "indic[\"indications\"]=indic[\"indications\"].str.replace(\": \",\",\")\n",
    "indic[\"indications\"]=indic[\"indications\"].str.split(\",\")\n",
    "indic['indications']= [[i for i in item if not (\"Other\" == i or i ==\"\" or i==\" \") ] for item in indic['indications']]\n",
    "checks=set()\n",
    "for item in indic[\"indications\"]:\n",
    "    for i in item:\n",
    "        checks.add(i)\n",
    "checks\n",
    "indic.describe()\n",
    "#goth the set"
   ]
  },
  {
   "cell_type": "code",
   "execution_count": null,
   "id": "b9d1931a",
   "metadata": {},
   "outputs": [],
   "source": [
    "indic=pd.DataFrame(df[\"indications\"]).copy()\n",
    "indic= indic.fillna(\"\")\n",
    "indicTF=pd.DataFrame()\n",
    "for i, con in indic.iterrows():\n",
    "    #print(con)\n",
    "    row={}\n",
    "    for j in checks:\n",
    "        row[j]=con.str.contains(j, regex=False)\n",
    "        pass\n",
    "    row = pd.DataFrame(row)\n",
    "    indicTF= pd.concat([indicTF, row])\n"
   ]
  },
  {
   "cell_type": "code",
   "execution_count": null,
   "id": "76203264",
   "metadata": {},
   "outputs": [],
   "source": []
  }
 ],
 "metadata": {
  "kernelspec": {
   "display_name": "Python 3 (ipykernel)",
   "language": "python",
   "name": "python3"
  },
  "language_info": {
   "codemirror_mode": {
    "name": "ipython",
    "version": 3
   },
   "file_extension": ".py",
   "mimetype": "text/x-python",
   "name": "python",
   "nbconvert_exporter": "python",
   "pygments_lexer": "ipython3",
   "version": "3.11.2"
  }
 },
 "nbformat": 4,
 "nbformat_minor": 5
}
